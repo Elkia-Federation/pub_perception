{
 "cells": [
  {
   "cell_type": "markdown",
   "metadata": {},
   "source": [
    "No Dilation (dilation = 1)"
   ]
  },
  {
   "cell_type": "code",
   "execution_count": null,
   "metadata": {},
   "outputs": [],
   "source": [
    "from keras.models import Sequential\n",
    "from keras.layers import Conv1D\n",
    "from keras.layers import Embedding\n",
    "from keras.layers import Dense\n",
    "from keras.layers import Activation\n",
    "from keras.layers import Flatten\n",
    "from keras.layers import MaxPooling1D\n",
    "from keras.layers import Dropout\n",
    "cnn = Sequential()\n",
    "\n",
    "cnn.add(Embedding(len(word_index) + 1,\n",
    "                            100,\n",
    "                            weights=[embedding_matrix],\n",
    "                            input_length=33,\n",
    "                            ))\n",
    "cnn.add(Conv1D(filters=256, kernel_size = 5))\n",
    "cnn.add(Activation('relu'))\n",
    "cnn.add(Conv1D(filters=128, kernel_size = 5))\n",
    "cnn.add(Activation('relu'))\n",
    "cnn.add(Conv1D(filters=128, kernel_size = 5))\n",
    "cnn.add(Activation('relu'))\n",
    "cnn.add(Conv1D(filters=128, kernel_size = 5))\n",
    "cnn.add(Activation('relu'))\n",
    "cnn.add(Conv1D(filters=128, kernel_size = 5))\n",
    "cnn.add(Activation('relu'))\n",
    "cnn.add(Conv1D(filters=128, kernel_size = 5))\n",
    "cnn.add(Activation('relu'))\n",
    "cnn.add(Flatten())\n",
    "cnn.add(Dense(128))\n",
    "cnn.add(Activation('relu'))\n",
    "cnn.add(Dropout(0.5))\n",
    "cnn.add(Dense(1))\n",
    "cnn.add(Activation('relu'))\n",
    "cnn1 = cnn#for later"
   ]
  },
  {
   "cell_type": "markdown",
   "metadata": {},
   "source": [
    "Dilation = 2"
   ]
  },
  {
   "cell_type": "code",
   "execution_count": null,
   "metadata": {},
   "outputs": [],
   "source": [
    "cnn1 = Sequential()\n",
    "\n",
    "cnn1.add(Embedding(len(word_index) + 1,\n",
    "                            100,\n",
    "                            weights=[embedding_matrix],\n",
    "                            input_length=33,\n",
    "                            ))\n",
    "cnn1.add(Conv1D(filters=256, kernel_size = 5, dilation_rate = 2))\n",
    "cnn1.add(Activation('relu'))\n",
    "cnn1.add(Conv1D(filters=128, kernel_size = 5))\n",
    "cnn1.add(Activation('relu'))\n",
    "cnn1.add(Conv1D(filters=128, kernel_size = 5))\n",
    "cnn1.add(Activation('relu'))\n",
    "cnn1.add(Conv1D(filters=128, kernel_size = 5))\n",
    "cnn1.add(Activation('relu'))\n",
    "cnn1.add(Conv1D(filters=128, kernel_size = 5))\n",
    "cnn1.add(Activation('relu'))\n",
    "cnn1.add(Conv1D(filters=128, kernel_size = 5))\n",
    "cnn1.add(Activation('relu'))"
   ]
  }
 ],
 "metadata": {
  "kernelspec": {
   "display_name": "Python 3",
   "language": "python",
   "name": "python3"
  },
  "language_info": {
   "codemirror_mode": {
    "name": "ipython",
    "version": 3
   },
   "file_extension": ".py",
   "mimetype": "text/x-python",
   "name": "python",
   "nbconvert_exporter": "python",
   "pygments_lexer": "ipython3",
   "version": "3.6.5"
  },
  "toc": {
   "base_numbering": 1,
   "nav_menu": {},
   "number_sections": false,
   "sideBar": false,
   "skip_h1_title": false,
   "title_cell": "Table of Contents",
   "title_sidebar": "Contents",
   "toc_cell": false,
   "toc_position": {},
   "toc_section_display": false,
   "toc_window_display": false
  }
 },
 "nbformat": 4,
 "nbformat_minor": 2
}
